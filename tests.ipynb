{
 "cells": [
  {
   "cell_type": "code",
   "execution_count": 16,
   "metadata": {},
   "outputs": [],
   "source": [
    "import os\n",
    "import subprocess\n",
    "\n",
    "os.environ['TF_CPP_MIN_LOG_LEVEL'] = '3'\n",
    "import sys\n",
    "import getopt\n",
    "import shutil\n",
    "\n",
    "from GenerativeLSTM.model_prediction import model_predictor as pr\n",
    "from GenerativeLSTM import support_functions as sf\n",
    "from support_modules import stochastic_model as sm\n",
    "from support_modules import models_merger as mm"
   ]
  },
  {
   "cell_type": "code",
   "execution_count": 17,
   "metadata": {},
   "outputs": [],
   "source": [
    "parameters = dict()\n",
    "column_names = {'Case ID': 'caseid',\n",
    "                'Activity': 'task',\n",
    "                'lifecycle:transition': 'event_type',\n",
    "                'Resource': 'user'}\n",
    "parameters['one_timestamp'] = False  # Only one timestamp in the log\n",
    "parameters['include_org_log'] = False\n",
    "parameters['read_options'] = {\n",
    "\n",
    "    #Production and Purchasing: \"%Y-%m-%d %H:%M:%S%z\"\n",
    "    #RunningExample: \"%Y-%m-%d %H:%M:%S%z\"\n",
    "    #ConsultaDataMining201618: \"%Y-%m-%d %H:%M:%S%z\"\n",
    "\n",
    "    'timeformat': \"%Y-%m-%d %H:%M:%S%Z\",\n",
    "    'column_names': column_names,\n",
    "    'one_timestamp': parameters['one_timestamp'],\n",
    "    'filter_d_attrib': False}\n",
    "\n",
    "#parameters['filename'] = 'ConsultaDataMining201618.xes'\n",
    "#parameters['filename'] = 'PurchasingExample.xes'\n",
    "parameters['filename'] = 'RunningExample.xes'\n",
    "#parameters['filename'] = 'Production.xes'\n",
    "parameters['input_path'] = 'GenerativeLSTM/input_files'\n",
    "\n",
    "parameters['sm3_path'] = os.path.join('GenerativeLSTM','external_tools', 'splitminer3', 'bpmtk.jar')\n",
    "parameters['bimp_path'] = os.path.join('GenerativeLSTM','external_tools', 'bimp', 'qbp-simulator-engine_with_csv_statistics.jar')\n",
    "parameters['concurrency'] = 0.0\n",
    "parameters['epsilon'] = 0.5\n",
    "parameters['eta'] = 0.7\n",
    "\n",
    "parameters['activity'] = 'pred_log'\n",
    "\n",
    "#PurchasingExample:\n",
    "#parameters['folder'] = '20240410_1DE076F0_991C_4663_9471_181266EDA48E'\n",
    "#Production:\n",
    "#parameters['folder'] = '20240405_408B76AE_502A_4576_BBDB_D182EA5A47EC'\n",
    "#RunningExample:\n",
    "parameters['folder'] = '20240411_C51DBDD1_BEB9_4FD6_B23A_5D34B81DE5E1'\n",
    "#ConsultaDataMining:\n",
    "#parameters['folder'] = '20240410_92B1B91F_3AEE_42CB_963F_EA8B4320B30A'\n",
    "parameters['model_file'] = parameters['filename'].split('.')[0] + '.h5'\n",
    "parameters['log_name'] = parameters['model_file'].split('.')[0]\n",
    "parameters['is_single_exec'] = False  # single or batch execution\n",
    "# variants and repetitions to be tested Random Choice, Arg Max, Rules Based Random Choice, Rules Based Arg Max\n",
    "parameters['variant'] = 'Rules Based Random Choice'\n",
    "parameters['rep'] = 1"
   ]
  },
  {
   "cell_type": "code",
   "execution_count": 18,
   "metadata": {},
   "outputs": [
    {
     "name": "stdout",
     "output_type": "stream",
     "text": [
      "Reading log traces ...      [DONE]\n",
      " -- Mining Process Structure --\n",
      "Loading of bpmn structure from file 100.0%...      [DONE]\n",
      "Counting branch cases...\n"
     ]
    },
    {
     "name": "stderr",
     "output_type": "stream",
     "text": [
      "100%|██████████| 4/4 [00:00<?, ?it/s]\n"
     ]
    }
   ],
   "source": [
    "settings = dict()\n",
    "settings['timeformat'] = parameters['read_options']['timeformat']\n",
    "settings['column_names'] = parameters['read_options']['column_names']\n",
    "settings['one_timestamp'] = parameters['read_options']['one_timestamp']\n",
    "settings['filter_d_attrib'] = parameters['read_options']['filter_d_attrib']\n",
    "\n",
    "settings['file'] = parameters['filename'].split('.')[0]\n",
    "settings['sm3_path'] = parameters['sm3_path']\n",
    "\n",
    "settings['bimp_path'] = parameters['bimp_path']\n",
    "settings['concurrency'] = parameters['concurrency']\n",
    "settings['epsilon'] = parameters['epsilon']\n",
    "settings['eta'] = parameters['eta']\n",
    "\n",
    "settings['log_path'] = os.path.join('GenerativeLSTM','input_files', settings['file'] + '.xes')\n",
    "settings['log_path_tobe'] = os.path.join('GenerativeLSTM','input_files', 'spmd', settings['file'] + '.xes')\n",
    "settings['tobe_bpmn_path'] = os.path.join('GenerativeLSTM','input_files', 'spmd', settings['file'] + '.bpmn')\n",
    "\n",
    "spmd_tobe = sm.StochasticModel(settings)"
   ]
  },
  {
   "cell_type": "code",
   "execution_count": 19,
   "metadata": {},
   "outputs": [
    {
     "name": "stdout",
     "output_type": "stream",
     "text": [
      "Reading log traces ...      [DONE]\n",
      " -- Mining Process Structure --\n",
      "Loading of bpmn structure from file 100.0%...      [DONE]\n",
      "Counting branch cases...\n"
     ]
    },
    {
     "name": "stderr",
     "output_type": "stream",
     "text": [
      "100%|██████████| 4/4 [00:00<?, ?it/s]\n"
     ]
    }
   ],
   "source": [
    "settings['log_path'] = os.path.join('GenerativeLSTM','input_files', settings['file'] + '.xes')\n",
    "settings['log_path_tobe'] = os.path.join('GenerativeLSTM','input_files', settings['file'] + '.xes')\n",
    "spmd_asis = sm.StochasticModel(settings)"
   ]
  },
  {
   "cell_type": "code",
   "execution_count": 22,
   "metadata": {},
   "outputs": [
    {
     "data": {
      "text/plain": [
       "{('Task A', 'Task B'): 1,\n",
       " ('Task A', 'End'): 4,\n",
       " ('Task D', 'Task E'): 2,\n",
       " ('Task D', 'Task A'): 4}"
      ]
     },
     "execution_count": 22,
     "metadata": {},
     "output_type": "execute_result"
    }
   ],
   "source": [
    "spmd_tobe.lrs.branching_probs_tasks"
   ]
  },
  {
   "cell_type": "code",
   "execution_count": 24,
   "metadata": {},
   "outputs": [
    {
     "data": {
      "text/plain": [
       "{('Task D', 'Task E'): 2,\n",
       " ('Task D', 'Task A'): 4,\n",
       " ('Task A', 'Task B'): 1,\n",
       " ('Task A', 'End'): 4}"
      ]
     },
     "execution_count": 24,
     "metadata": {},
     "output_type": "execute_result"
    }
   ],
   "source": [
    "spmd_asis.lrs.branching_probs_tasks"
   ]
  },
  {
   "cell_type": "code",
   "execution_count": 5,
   "metadata": {},
   "outputs": [
    {
     "name": "stdout",
     "output_type": "stream",
     "text": [
      "Simulation was successfully executed\n"
     ]
    }
   ],
   "source": [
    "settings = dict()\n",
    "settings['file'] = parameters['filename'].split('.')[0]\n",
    "settings['bimp_path'] = parameters['bimp_path']\n",
    "settings['tobe_bpmn_path'] = os.path.join('GenerativeLSTM','input_files', 'spmd', settings['file'] + '.bpmn')\n",
    "settings['asis_bpmn_path'] = os.path.join('GenerativeLSTM','input_files', 'simod', settings['file'] + '.bpmn')\n",
    "settings['csv_output_path'] = os.path.join('GenerativeLSTM','output_files', 'simulation_stats', settings['file'] + '.csv')\n",
    "settings['output_path'] = os.path.join('GenerativeLSTM','output_files', 'simulation_files', settings['file'] + '.bpmn')\n",
    "settings['lrs'] = spmd.lrs\n",
    "\n",
    "mod_mer = mm.MergeModels(settings)"
   ]
  }
 ],
 "metadata": {
  "kernelspec": {
   "display_name": "deep_generator",
   "language": "python",
   "name": "python3"
  },
  "language_info": {
   "codemirror_mode": {
    "name": "ipython",
    "version": 3
   },
   "file_extension": ".py",
   "mimetype": "text/x-python",
   "name": "python",
   "nbconvert_exporter": "python",
   "pygments_lexer": "ipython3",
   "version": "3.9.18"
  }
 },
 "nbformat": 4,
 "nbformat_minor": 2
}
